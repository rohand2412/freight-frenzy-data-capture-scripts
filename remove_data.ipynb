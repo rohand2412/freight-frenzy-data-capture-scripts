{
 "metadata": {
  "language_info": {
   "codemirror_mode": {
    "name": "ipython",
    "version": 3
   },
   "file_extension": ".py",
   "mimetype": "text/x-python",
   "name": "python3",
   "nbconvert_exporter": "python",
   "pygments_lexer": "ipython3",
   "version": "3.6.7-final"
  },
  "orig_nbformat": 2,
  "kernelspec": {
   "name": "python3",
   "display_name": "Python 3",
   "language": "python"
  }
 },
 "nbformat": 4,
 "nbformat_minor": 2,
 "cells": [
  {
   "cell_type": "code",
   "execution_count": null,
   "metadata": {},
   "outputs": [],
   "source": [
    "import os\n",
    "import numpy as np\n",
    "from PIL import Image"
   ]
  },
  {
   "cell_type": "code",
   "execution_count": null,
   "metadata": {},
   "outputs": [],
   "source": [
    "input_dir = '/home/rohan/Documents/RCJ2021Repos/raspberry-pi-images-rcj/Evac-Filtered-Images/'\n",
    "output_dir = '/home/rohan/Documents/RCJ2021Repos/raspberry-pi-images-rcj/Evac-Final-Images/'\n",
    "\n",
    "os.chdir(input_dir)"
   ]
  },
  {
   "cell_type": "code",
   "execution_count": null,
   "metadata": {
    "tags": [
     "outputPrepend"
    ]
   },
   "outputs": [],
   "source": [
    "def getOrderedPath(path):\n",
    "    files = os.listdir(path)\n",
    "    num_data_types = 3\n",
    "    files_split = [[None for data_type in range(num_data_types)] for name in range(len(files))]\n",
    "\n",
    "    for i, name in enumerate(files):\n",
    "        text = ''.join(filter(str.isalpha, os.path.splitext(name)[0]))\n",
    "        num = ''.join(filter(str.isdigit, name))\n",
    "        ext = os.path.splitext(name)[1]\n",
    "        files_split[i] = [text, num, ext]\n",
    "\n",
    "    files_split = np.array(files_split)\n",
    "    files_ordered = [None for name in range(len(files_split))]\n",
    "    files_ordered_len = 0\n",
    "    files_cur_index = 0\n",
    "    while files_ordered_len < len(files_ordered):\n",
    "        indices = np.where(files_split[:, 1]==str(files_cur_index))\n",
    "        if len(indices[0]) == 1:\n",
    "            files_ordered[files_ordered_len] = files_split[indices[0][0]][0] + files_split[indices[0][0]][1] + files_split[indices[0][0]][2]\n",
    "            files_ordered_len += 1\n",
    "        elif indices[0].size > 0:\n",
    "            while true:\n",
    "                print(\"[ERROR] MULTIPLE DIRECTORIES WITH THE SAME ID\")\n",
    "        files_cur_index += 1\n",
    "    \n",
    "    return files_ordered\n",
    "\n",
    "print(getOrderedPath(os.getcwd()))"
   ]
  },
  {
   "cell_type": "code",
   "execution_count": null,
   "metadata": {},
   "outputs": [],
   "source": [
    "remove_data = [1, 2, 2758]\n"
   ]
  },
  {
   "cell_type": "code",
   "execution_count": null,
   "metadata": {},
   "outputs": [],
   "source": [
    "file_id = 1\n",
    "img_format = \"RGB\"\n",
    "\n",
    "for filename in getOrderedPath(os.getcwd()):\n",
    "    file_num = int(''.join(filter(str.isdigit, filename)))\n",
    "\n",
    "    if file_num not in remove_data:\n",
    "        data = Image.open(filename).convert(img_format)\n",
    "        text = ''.join(filter(str.isalpha, os.path.splitext(filename)[0]))\n",
    "        ext = os.path.splitext(filename)[1]\n",
    "        data.save(output_dir + text + str(file_id) + ext)\n",
    "        file_id += 1"
   ]
  },
  {
   "cell_type": "code",
   "execution_count": null,
   "metadata": {},
   "outputs": [],
   "source": []
  }
 ]
}