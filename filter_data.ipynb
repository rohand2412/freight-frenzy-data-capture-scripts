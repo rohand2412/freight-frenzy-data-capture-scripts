{
 "metadata": {
  "language_info": {
   "codemirror_mode": {
    "name": "ipython",
    "version": 3
   },
   "file_extension": ".py",
   "mimetype": "text/x-python",
   "name": "python3",
   "nbconvert_exporter": "python",
   "pygments_lexer": "ipython3",
   "version": "3.6.7-final"
  },
  "orig_nbformat": 2,
  "kernelspec": {
   "name": "python3",
   "display_name": "Python 3",
   "language": "python"
  }
 },
 "nbformat": 4,
 "nbformat_minor": 2,
 "cells": [
  {
   "cell_type": "code",
   "execution_count": null,
   "metadata": {},
   "outputs": [],
   "source": [
    "import os\n",
    "import numpy as np\n",
    "from PIL import Image\n",
    "import matplotlib.pyplot as plt"
   ]
  },
  {
   "cell_type": "code",
   "execution_count": null,
   "metadata": {},
   "outputs": [],
   "source": [
    "data_path = '/home/rohan/Documents/RCJ2021Repos/raspberry-pi-images-rcj/Evac/'\n",
    "save_path = '/home/rohan/Documents/RCJ2021Repos/raspberry-pi-images-rcj/Evac-Filtered-Images/'\n",
    "os.chdir(data_path)"
   ]
  },
  {
   "cell_type": "code",
   "execution_count": null,
   "metadata": {
    "tags": []
   },
   "outputs": [],
   "source": [
    "def getOrderedPath(path):\n",
    "    files = os.listdir(path)\n",
    "    num_data_types = 3\n",
    "    files_split = [[None for data_type in range(num_data_types)] for name in range(len(files))]\n",
    "\n",
    "    for i, name in enumerate(files):\n",
    "        text = ''.join(filter(str.isalpha, os.path.splitext(name)[0]))\n",
    "        num = ''.join(filter(str.isdigit, name))\n",
    "        ext = os.path.splitext(name)[1]\n",
    "        files_split[i] = [text, num, ext]\n",
    "\n",
    "    files_split = np.array(files_split)\n",
    "    files_ordered = [None for name in range(len(files_split))]\n",
    "    files_ordered_len = 0\n",
    "    files_cur_index = 0\n",
    "    while files_ordered_len < len(files_ordered):\n",
    "        indices = np.where(files_split[:, 1]==str(files_cur_index))\n",
    "        if len(indices[0]) == 1:\n",
    "            files_ordered[files_ordered_len] = files_split[indices[0][0]][0] + files_split[indices[0][0]][1] + files_split[indices[0][0]][2]\n",
    "            files_ordered_len += 1\n",
    "        elif indices[0].size > 0:\n",
    "            while true:\n",
    "                print(\"[ERROR] MULTIPLE DIRECTORIES WITH THE SAME ID\")\n",
    "        files_cur_index += 1\n",
    "    \n",
    "    return files_ordered\n",
    "\n",
    "print(getOrderedPath(\"Test0\"))"
   ]
  },
  {
   "cell_type": "code",
   "execution_count": null,
   "metadata": {
    "tags": [
     "outputPrepend"
    ]
   },
   "outputs": [],
   "source": [
    "filter_factor = 5\n",
    "\n",
    "img_num = 0\n",
    "\n",
    "for folder in os.listdir():\n",
    "    for img in os.listdir(folder):\n",
    "        img_num += 1\n",
    "\n",
    "img_num = img_num // filter_factor\n",
    "\n",
    "img_paths = [None for img in range(img_num)]\n",
    "\n",
    "img_id = 0\n",
    "\n",
    "for folder in getOrderedPath(os.getcwd()):\n",
    "    for img in getOrderedPath(folder):\n",
    "        if not img_id % filter_factor:\n",
    "            img_paths[img_id // filter_factor] = folder + \"/\" + img\n",
    "        img_id += 1\n",
    "\n",
    "print(img_paths)"
   ]
  },
  {
   "cell_type": "code",
   "execution_count": null,
   "metadata": {},
   "outputs": [],
   "source": [
    "display_photo = np.array(Image.open(img_paths[-1]))\n",
    "\n",
    "fig, ax = plt.subplots(1)\n",
    "\n",
    "ax.imshow(display_photo)\n",
    "\n",
    "plt.show()"
   ]
  },
  {
   "cell_type": "code",
   "execution_count": null,
   "metadata": {},
   "outputs": [],
   "source": [
    "img_format = \"RGB\"\n",
    "\n",
    "for img in range(img_num):\n",
    "    if img_paths[img]:\n",
    "        image = Image.open(img_paths[img]).convert(img_format)\n",
    "        text = ''.join(filter(str.isalpha, os.path.splitext(os.path.basename(img_paths[img]))[0]))\n",
    "        ext = os.path.splitext(os.path.basename(img_paths[img]))[1]\n",
    "        image.save(save_path + text + str(img) + ext)"
   ]
  },
  {
   "cell_type": "code",
   "execution_count": null,
   "metadata": {},
   "outputs": [],
   "source": []
  }
 ]
}